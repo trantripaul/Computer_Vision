{
 "cells": [
  {
   "cell_type": "markdown",
   "metadata": {},
   "source": [
    "# Assignment 3 B : Calibration part B (/30pts)"
   ]
  },
  {
   "cell_type": "markdown",
   "metadata": {},
   "source": [
    "---\n",
    "Please edit the cell below to include your name and student ID #"
   ]
  },
  {
   "cell_type": "markdown",
   "metadata": {},
   "source": [
    "**name:** Paul Tran\n",
    "\n",
    "**SID:** 57931024"
   ]
  },
  {
   "cell_type": "markdown",
   "metadata": {},
   "source": [
    "NOTE: In this assignment we will build on top of your **project** and **triangulate** functions from previous assignments.  If you weren't happy with your implementation from assignment 2, please consult with the TAs or your classmates to get things cleaned up before starting this assignment.\n",
    "\n",
    "\n",
    "# 1. Parameterizing 3D Rotations\n",
    "\n",
    "In order to optimize over the camera rotation during calibration, we need a way to parameterize the space of 3D rotations. There are many different ways to do this and each comes with different tradeoffs, but for our purposes we will adopt a simple approach of building a rotation by a sequence of rotations around the X, Y and Z axes (so called *Tait-Bryan angles*, see https://en.wikipedia.org/wiki/Euler_angles for more discussion)\n",
    "\n",
    "## 1.1 Implement [15pts]\n",
    "\n",
    "Write a function **makerotation** which takes as input three angles **rx,ry,rz** and returns a rotation matrix corresponding to rotating by **rx** degrees around the x-axis, followed by a rotation of **ry** degrees around the y-axis, followed by a rotation of **rz** degrees around the z-axis. "
   ]
  },
  {
   "cell_type": "code",
   "execution_count": 1,
   "metadata": {},
   "outputs": [],
   "source": [
    "import numpy as np\n",
    "import matplotlib.pyplot as plt\n",
    "import scipy.optimize\n",
    "import matplotlib.patches as patches\n",
    "from mpl_toolkits.mplot3d import Axes3D\n",
    "import visutils\n",
    "%matplotlib inline"
   ]
  },
  {
   "cell_type": "code",
   "execution_count": 2,
   "metadata": {},
   "outputs": [],
   "source": [
    "def makerotation(rx,ry,rz):\n",
    "    \"\"\"\n",
    "    Generate a rotation matrix    \n",
    "\n",
    "    Parameters\n",
    "    ----------\n",
    "    rx,ry,rz : floats\n",
    "        Amount to rotate around x, y and z axes in degrees\n",
    "\n",
    "    Returns\n",
    "    -------\n",
    "    R : 2D numpy.array (dtype=float)\n",
    "        Rotation matrix of shape (3,3)\n",
    "    \"\"\"\n",
    "\n",
    "    rx = np.pi*rx/180.0\n",
    "    ry = np.pi*ry/180.0\n",
    "    rz = np.pi*rz/180.0\n",
    "    Rx = np.array( [[1,0,0],\n",
    "                    [0,np.cos(rx),-np.sin(rx)],\n",
    "                    [0,np.sin(rx),np.cos(rx)]])\n",
    "    Ry = np.array( [[np.cos(ry),0,np.sin(ry)],\n",
    "                    [0,1,0],\n",
    "                    [-np.sin(ry),0,np.cos(ry)]])\n",
    "    Rz = np.array( [[np.cos(rz),-np.sin(rz),0],\n",
    "                    [np.sin(rz),np.cos(rz),0],\n",
    "                    [0,0,1]])\n",
    "    R = (Rz @ Ry @ Rx)\n",
    "    return R"
   ]
  },
  {
   "cell_type": "markdown",
   "metadata": {},
   "source": [
    "## 1.2 Testing [5pts]\n",
    "\n",
    "Work out by hand what a 90 degree rotation should look like around each axis.  Then execute the test examples below and add some tests (asserts) to make sure your code passes. \n",
    "\n",
    "Find a way to achieve the same rotation as **makerotation(90,90,0)** but without using rotation around the x-axis.  That is, determine some angles so that **makerotation(0,?,?) == makerotation(90,90,0)**\n"
   ]
  },
  {
   "cell_type": "code",
   "execution_count": 3,
   "metadata": {},
   "outputs": [
    {
     "name": "stdout",
     "output_type": "stream",
     "text": [
      "[[ 1.  0.  0.]\n",
      " [ 0.  0. -1.]\n",
      " [ 0.  1.  0.]]\n",
      "[[ 0.  0.  1.]\n",
      " [ 0.  1.  0.]\n",
      " [-1.  0.  0.]]\n",
      "[[ 0. -1.  0.]\n",
      " [ 1.  0.  0.]\n",
      " [ 0.  0.  1.]]\n",
      "[[ 0.  1.  0.]\n",
      " [ 0.  0. -1.]\n",
      " [-1.  0.  0.]]\n",
      "[[ 0.  1.  0.]\n",
      " [-0.  0. -1.]\n",
      " [-1.  0.  0.]]\n"
     ]
    }
   ],
   "source": [
    "#\n",
    "# test your function on some simple examples\n",
    "#\n",
    "np.set_printoptions(precision=4,suppress=True)\n",
    "\n",
    "print(makerotation(90,0,0))\n",
    "\n",
    "print(makerotation(0,90,0))\n",
    "\n",
    "print(makerotation(0,0,90))\n",
    "\n",
    "print(makerotation(90,90,0))\n",
    "\n",
    "ry = 90\n",
    "rz = -90\n",
    "print(makerotation(0,ry,rz))\n",
    "\n",
    "# figure out what ry,rz values are needed in order to pass this test\n",
    "assert((makerotation(90,90,0)-makerotation(0,ry,rz)<1e-9).all())"
   ]
  },
  {
   "cell_type": "markdown",
   "metadata": {},
   "source": [
    "# 2. Reprojection Error [20pts]\n",
    "\n",
    "We will now specify a function which computes the reprojection error.  This is the function that we will later optimize when calibrating the camera extrinsic parameters. Take a look at the documentation for **scipy.optimize.leastsq**.  The optimizer expects that our function should take a vector of parameters and \n",
    "return a vector of residuals which it will square and sum up to get the total error. For this reason, we will structure our code in the following way. \n",
    "\n",
    "First, write a member function for the Camera class called **update_extrinsics** which takes a vector of 6 parameters (rx,ry,rz,tx,ty,tz). The function should keep the same intrinsic parameters (f,c) but update the extrinsic parameters (R,t) based on the entries in the parameter vector.  \n",
    "\n",
    "Second, implement a function named **residuals** which computes the difference between a provided set of 2D point coordinates and the projection of 3D point coordinates by specified camera.  The residuals function takes as input the 3D points, the target 2D points, a camera with specified intrinsic parameters, and an extrinsic parameter vector. You should use **update_extrinsics** to update the extrinsic parameters, compute the projection of the 3D points with the updated camera and return a 1D vector containing the differences of all the x and y coordinates.\n"
   ]
  },
  {
   "cell_type": "code",
   "execution_count": 4,
   "metadata": {},
   "outputs": [],
   "source": [
    "class Camera:\n",
    "    \"\"\"\n",
    "    A simple data structure describing camera parameters \n",
    "    \n",
    "    The parameters describing the camera\n",
    "    cam.f : float   --- camera focal length (in units of pixels)\n",
    "    cam.c : 2x1 vector  --- offset of principle point\n",
    "    cam.R : 3x3 matrix --- camera rotation\n",
    "    cam.t : 3x1 vector --- camera translation \n",
    "    \n",
    "    \"\"\"\n",
    "\n",
    "    def __init__(self,f,c,R,t):\n",
    "        self.f = f\n",
    "        self.c = c\n",
    "        self.R = R\n",
    "        self.t = t\n",
    "\n",
    "    def __str__(self):\n",
    "        return f'Camera : \\n f={self.f} \\n c={self.c.T} \\n R={self.R} \\n t = {self.t.T}'\n",
    "\n",
    "    def project(self,pts3):\n",
    "        \"\"\"\n",
    "        Project the given 3D points in world coordinates into the specified camera    \n",
    "\n",
    "        Parameters\n",
    "        ----------\n",
    "        pts3 : 2D numpy.array (dtype=float)\n",
    "            Coordinates of N points stored in a array of shape (3,N)\n",
    "\n",
    "        Returns\n",
    "        -------\n",
    "        pts2 : 2D numpy.array (dtype=float)\n",
    "            Image coordinates of N points stored in an array of shape (2,N)\n",
    "\n",
    "        \"\"\"\n",
    "        # get point location relative to camera\n",
    "        pcam = self.R.transpose() @ (pts3 - self.t)\n",
    "        #project\n",
    "        p = self.f * (pcam / pcam[2,:])\n",
    "        # offset principal point\n",
    "        pts2 = p[0:2,:] + self.c\n",
    "        return(pts2)\n",
    "\n",
    "\n",
    "    def update_extrinsics(self,params):\n",
    "        \"\"\"\n",
    "        Given a vector of extrinsic parameters, update the camera\n",
    "        to use the provided parameters.\n",
    "  \n",
    "        Parameters\n",
    "        ----------\n",
    "        params : 1D numpy.array of shape (6,) (dtype=float)\n",
    "            Camera parameters we are optimizing over stored in a vector\n",
    "            params[:3] are the rotation angles, params[3:] are the translation\n",
    "\n",
    "        \"\"\"\n",
    "        #... update rotation and translation\n",
    "\n",
    "        self.R = makerotation(params[0],params[1],params[2])\n",
    "        self.t = np.array([[params[3],params[4],params[5]]]).T"
   ]
  },
  {
   "cell_type": "code",
   "execution_count": 5,
   "metadata": {},
   "outputs": [],
   "source": [
    "def residuals(pts3,pts2,cam,params):\n",
    "    \"\"\"\n",
    "    Compute the difference between the projection of 3D points by the camera\n",
    "    with the given parameters and the observed 2D locations\n",
    "\n",
    "    Parameters\n",
    "    ----------\n",
    "    pts3 : 2D numpy.array (dtype=float)\n",
    "        Coordinates of N points stored in a array of shape (3,N)\n",
    "\n",
    "    pts2 : 2D numpy.array (dtype=float)\n",
    "        Coordinates of N points stored in a array of shape (2,N)\n",
    "\n",
    "    params : 1D numpy.array (dtype=float)\n",
    "        Camera parameters we are optimizing stored in a vector of shape (6,)\n",
    "\n",
    "    Returns\n",
    "    -------\n",
    "    residual : 1D numpy.array (dtype=float)\n",
    "        Vector of residual 2D projection errors of size 2*N\n",
    "        \n",
    "    \"\"\"\n",
    "    #... make sure to flatten into  vector before returning, so it works with scipy.optimize.leastsq\n",
    "\n",
    "    cam.update_extrinsics(params)\n",
    "    pts2proj = cam.project(pts3)\n",
    "    residual = pts2 - pts2proj\n",
    "    return residual.flatten()\n"
   ]
  },
  {
   "cell_type": "code",
   "execution_count": 6,
   "metadata": {},
   "outputs": [
    {
     "name": "stdout",
     "output_type": "stream",
     "text": [
      "Camera : \n",
      " f=200 \n",
      " c=[[50 50]] \n",
      " R=[[1. 0. 0.]\n",
      " [0. 1. 0.]\n",
      " [0. 0. 1.]] \n",
      " t = [[ 0.5  0.5 -2.5]]\n",
      "Camera : \n",
      " f=200 \n",
      " c=[[50 50]] \n",
      " R=[[ 0.9962 -0.0872  0.    ]\n",
      " [ 0.0872  0.9962  0.    ]\n",
      " [ 0.      0.      1.    ]] \n",
      " t = [[ 0.5  0.5 -3. ]]\n",
      "[[0 0 0 0 1 1 1 1]\n",
      " [0 0 1 1 1 0 0 1]\n",
      " [0 1 1 0 0 0 1 1]]\n"
     ]
    },
    {
     "data": {
      "text/plain": "<Figure size 640x480 with 1 Axes>",
      "image/png": "[encoded data removed]"
     },
     "metadata": {},
     "output_type": "display_data"
    },
    {
     "name": "stdout",
     "output_type": "stream",
     "text": [
      "\n",
      " residuals of camB relative to camA\n",
      "[-3.8883 -1.4877 -5.8455 -9.6987  3.8883  9.6987  5.8455  1.4877 -9.6987\n",
      " -5.8455  1.4877  3.8883  9.6987 -3.8883 -1.4877  5.8455]\n",
      "[[-3.8883 -1.4877 -5.8455 -9.6987  3.8883  9.6987  5.8455  1.4877]\n",
      " [-9.6987 -5.8455  1.4877  3.8883  9.6987 -3.8883 -1.4877  5.8455]]\n",
      "\n",
      " residuals of camA relative to camB\n",
      "[ 3.8883  1.4877  5.8455  9.6987 -3.8883 -9.6987 -5.8455 -1.4877  9.6987\n",
      "  5.8455 -1.4877 -3.8883 -9.6987  3.8883  1.4877 -5.8455]\n",
      "[[ 3.8883  1.4877  5.8455  9.6987 -3.8883 -9.6987 -5.8455 -1.4877]\n",
      " [ 9.6987  5.8455 -1.4877 -3.8883 -9.6987  3.8883  1.4877 -5.8455]]\n"
     ]
    }
   ],
   "source": [
    "#\n",
    "# Test the residual function to make sure it is doing the right thing.\n",
    "#\n",
    "\n",
    "# create two cameras with same intrinsic but slightly different extrinsic parameters\n",
    "c = [50,50]\n",
    "camA = Camera(f=200,c=np.array([c]).T,t=np.array([[0,0,0]]).T, R=makerotation(0,0,0))\n",
    "camB = Camera(f=200,c=np.array([c]).T,t=np.array([[0,0,0]]).T, R=makerotation(0,0,0))\n",
    "\n",
    "paramsA = np.array([0,0,0,0.5,0.5,-2.5])\n",
    "paramsB = np.array([0,0,5,0.5,0.5,-3])\n",
    "camA.update_extrinsics(paramsA)\n",
    "camB.update_extrinsics(paramsB)\n",
    "\n",
    "print(camA)\n",
    "print(camB)\n",
    "\n",
    "# create a test object (corners of a 3D cube) \n",
    "pts3 = np.array([[0,0,0],[0,0,1],[0,1,1],[0,1,0],[1,1,0],[1,0,0],[1,0,1],[1,1,1]]).T\n",
    "print(pts3)\n",
    "# visualize the two projections\n",
    "pts2A = camA.project(pts3)\n",
    "pts2B = camB.project(pts3)\n",
    "\n",
    "plt.plot(pts2A[0,:],pts2A[1,:],'r')\n",
    "plt.plot(pts2B[0,:],pts2B[1,:],'b')\n",
    "#visualize the sensor frame assuming our sensor is centered around the principal point\n",
    "plt.gca().add_patch(patches.Rectangle((0,0),2*c[0],2*c[1],color='g',fill=False,ls='--'))\n",
    "plt.plot(c[0],c[1],'g+')\n",
    "plt.axis('square')\n",
    "plt.show()\n",
    "\n",
    "# double check that the residuals are the same as the difference in the reprojected coordinates\n",
    "print(\"\\n residuals of camB relative to camA\")\n",
    "print(residuals(pts3,pts2A,camB,paramsB))\n",
    "print(pts2A-pts2B)\n",
    "\n",
    "print(\"\\n residuals of camA relative to camB\")\n",
    "print(residuals(pts3,pts2B,camA,paramsA))\n",
    "print(pts2B-pts2A)\n"
   ]
  },
  {
   "cell_type": "markdown",
   "metadata": {},
   "source": [
    "# 3. Camera Pose Estimation\n",
    "\n",
    "We are now ready to estimate camera pose using optimize.  Implement a function **calibratePose** which takes as input the 3D coordinates of a calibration object, the observed 2D coordinates in the image, and an initial guess of the camera. Your function should use **scipy.optimize.leastsq** to optimize the extrinsic parameters in order to minimize the reprojection error. Since the **residuals** function takes additional arguments and **leastsq** expects a function which only takes the parameter vector as input, you should use Python's **lambda** function to wrap **residuals**, subistituting in the parameters that are fixed during the optimization. Once you have determined the optimum parameters, update the extrinsic parameters to the optimum and return the resulting camera.\n",
    "\n",
    "\n",
    "## 3.1 Implementation [30pts]"
   ]
  },
  {
   "cell_type": "code",
   "execution_count": 7,
   "outputs": [],
   "source": [
    "def calibratePose(pts3,pts2,cam_init,params_init):\n",
    "    \"\"\"\n",
    "    Calibrate the provided camera by updating R,t so that pts3 projects\n",
    "    as close as possible to pts2\n",
    "\n",
    "    Parameters\n",
    "    ----------\n",
    "    pts3 : 2D numpy.array (dtype=float)\n",
    "        Coordinates of N points stored in a array of shape (3,N)\n",
    "\n",
    "    pts2 : 2D numpy.array (dtype=float)\n",
    "        Coordinates of N points stored in a array of shape (2,N)\n",
    "\n",
    "    cam : Camera\n",
    "        Initial estimate of camera\n",
    "        \n",
    "    params_init : 1D numpy.array (dtype=float)\n",
    "        Initial estimate of camera extrinsic parameters ()\n",
    "        params[0:3] are the rotation angles, params[3:6] are the translation\n",
    "\n",
    "    Returns\n",
    "    -------\n",
    "    cam : Camera\n",
    "        Refined estimate of camera with updated R,t parameters\n",
    "        \n",
    "    \"\"\"\n",
    "\n",
    "    # use scipy.optimize.leastsq to optimize for params and return the new camera ...\n",
    "    new_cam = cam_init\n",
    "    residuals_func = lambda params: residuals(pts3,pts2,new_cam,params)\n",
    "    params_opt, _ = scipy.optimize.leastsq(residuals_func,params_init)\n",
    "    new_cam.update_extrinsics(params_opt)\n",
    "    return new_cam#%% md\n",
    "# Assignment 3 B : Calibration part B (/30pts)"
   ],
   "metadata": {
    "collapsed": false
   }
  },
  {
   "cell_type": "markdown",
   "source": [
    "---\n",
    "Please edit the cell below to include your name and student ID #"
   ],
   "metadata": {
    "collapsed": false
   }
  },
  {
   "cell_type": "markdown",
   "source": [
    "**name:** Paul Tran\n",
    "\n",
    "**SID:** 57931024"
   ],
   "metadata": {
    "collapsed": false
   }
  },
  {
   "cell_type": "markdown",
   "source": [
    "NOTE: In this assignment we will build on top of your **project** and **triangulate** functions from previous assignments.  If you weren't happy with your implementation from assignment 2, please consult with the TAs or your classmates to get things cleaned up before starting this assignment.\n",
    "\n",
    "\n",
    "# 1. Parameterizing 3D Rotations\n",
    "\n",
    "In order to optimize over the camera rotation during calibration, we need a way to parameterize the space of 3D rotations. There are many different ways to do this and each comes with different tradeoffs, but for our purposes we will adopt a simple approach of building a rotation by a sequence of rotations around the X, Y and Z axes (so called *Tait-Bryan angles*, see https://en.wikipedia.org/wiki/Euler_angles for more discussion)\n",
    "\n",
    "## 1.1 Implement [15pts]\n",
    "\n",
    "Write a function **makerotation** which takes as input three angles **rx,ry,rz** and returns a rotation matrix corresponding to rotating by **rx** degrees around the x-axis, followed by a rotation of **ry** degrees around the y-axis, followed by a rotation of **rz** degrees around the z-axis."
   ],
   "metadata": {
    "collapsed": false
   }
  },
  {
   "cell_type": "code",
   "execution_count": 8,
   "outputs": [],
   "source": [
    "import numpy as np\n",
    "import matplotlib.pyplot as plt\n",
    "import scipy.optimize\n",
    "import matplotlib.patches as patches\n",
    "from mpl_toolkits.mplot3d import Axes3D\n",
    "import visutils\n",
    "%matplotlib inline"
   ],
   "metadata": {
    "collapsed": false
   }
  },
  {
   "cell_type": "code",
   "execution_count": 9,
   "outputs": [],
   "source": [
    "def makerotation(rx,ry,rz):\n",
    "    \"\"\"\n",
    "    Generate a rotation matrix\n",
    "\n",
    "    Parameters\n",
    "    ----------\n",
    "    rx,ry,rz : floats\n",
    "        Amount to rotate around x, y and z axes in degrees\n",
    "\n",
    "    Returns\n",
    "    -------\n",
    "    R : 2D numpy.array (dtype=float)\n",
    "        Rotation matrix of shape (3,3)\n",
    "    \"\"\"\n",
    "\n",
    "    rx = np.pi*rx/180.0\n",
    "    ry = np.pi*ry/180.0\n",
    "    rz = np.pi*rz/180.0\n",
    "    Rx = np.array( [[1,0,0],\n",
    "                    [0,np.cos(rx),-np.sin(rx)],\n",
    "                    [0,np.sin(rx),np.cos(rx)]])\n",
    "    Ry = np.array( [[np.cos(ry),0,np.sin(ry)],\n",
    "                    [0,1,0],\n",
    "                    [-np.sin(ry),0,np.cos(ry)]])\n",
    "    Rz = np.array( [[np.cos(rz),-np.sin(rz),0],\n",
    "                    [np.sin(rz),np.cos(rz),0],\n",
    "                    [0,0,1]])\n",
    "    R = (Rz @ Ry @ Rx)\n",
    "    return R"
   ],
   "metadata": {
    "collapsed": false
   }
  },
  {
   "cell_type": "markdown",
   "source": [
    "## 1.2 Testing [5pts]\n",
    "\n",
    "Work out by hand what a 90 degree rotation should look like around each axis.  Then execute the test examples below and add some tests (asserts) to make sure your code passes.\n",
    "\n",
    "Find a way to achieve the same rotation as **makerotation(90,90,0)** but without using rotation around the x-axis.  That is, determine some angles so that **makerotation(0,?,?) == makerotation(90,90,0)**\n"
   ],
   "metadata": {
    "collapsed": false
   }
  },
  {
   "cell_type": "code",
   "execution_count": 10,
   "outputs": [
    {
     "name": "stdout",
     "output_type": "stream",
     "text": [
      "[[ 1.  0.  0.]\n",
      " [ 0.  0. -1.]\n",
      " [ 0.  1.  0.]]\n",
      "[[ 0.  0.  1.]\n",
      " [ 0.  1.  0.]\n",
      " [-1.  0.  0.]]\n",
      "[[ 0. -1.  0.]\n",
      " [ 1.  0.  0.]\n",
      " [ 0.  0.  1.]]\n",
      "[[ 0.  1.  0.]\n",
      " [ 0.  0. -1.]\n",
      " [-1.  0.  0.]]\n",
      "[[ 0.  1.  0.]\n",
      " [-0.  0. -1.]\n",
      " [-1.  0.  0.]]\n"
     ]
    }
   ],
   "source": [
    "#\n",
    "# test your function on some simple examples\n",
    "#\n",
    "np.set_printoptions(precision=4,suppress=True)\n",
    "\n",
    "print(makerotation(90,0,0))\n",
    "\n",
    "print(makerotation(0,90,0))\n",
    "\n",
    "print(makerotation(0,0,90))\n",
    "\n",
    "print(makerotation(90,90,0))\n",
    "\n",
    "ry = 90\n",
    "rz = -90\n",
    "print(makerotation(0,ry,rz))\n",
    "\n",
    "# figure out what ry,rz values are needed in order to pass this test\n",
    "assert((makerotation(90,90,0)-makerotation(0,ry,rz)<1e-9).all())"
   ],
   "metadata": {
    "collapsed": false
   }
  },
  {
   "cell_type": "markdown",
   "source": [
    "# 2. Reprojection Error [20pts]\n",
    "\n",
    "We will now specify a function which computes the reprojection error.  This is the function that we will later optimize when calibrating the camera extrinsic parameters. Take a look at the documentation for **scipy.optimize.leastsq**.  The optimizer expects that our function should take a vector of parameters and\n",
    "return a vector of residuals which it will square and sum up to get the total error. For this reason, we will structure our code in the following way.\n",
    "\n",
    "First, write a member function for the Camera class called **update_extrinsics** which takes a vector of 6 parameters (rx,ry,rz,tx,ty,tz). The function should keep the same intrinsic parameters (f,c) but update the extrinsic parameters (R,t) based on the entries in the parameter vector.\n",
    "\n",
    "Second, implement a function named **residuals** which computes the difference between a provided set of 2D point coordinates and the projection of 3D point coordinates by specified camera.  The residuals function takes as input the 3D points, the target 2D points, a camera with specified intrinsic parameters, and an extrinsic parameter vector. You should use **update_extrinsics** to update the extrinsic parameters, compute the projection of the 3D points with the updated camera and return a 1D vector containing the differences of all the x and y coordinates.\n"
   ],
   "metadata": {
    "collapsed": false
   }
  },
  {
   "cell_type": "code",
   "execution_count": 11,
   "outputs": [],
   "source": [
    "class Camera:\n",
    "    \"\"\"\n",
    "    A simple data structure describing camera parameters\n",
    "\n",
    "    The parameters describing the camera\n",
    "    cam.f : float   --- camera focal length (in units of pixels)\n",
    "    cam.c : 2x1 vector  --- offset of principle point\n",
    "    cam.R : 3x3 matrix --- camera rotation\n",
    "    cam.t : 3x1 vector --- camera translation\n",
    "\n",
    "    \"\"\"\n",
    "\n",
    "    def __init__(self,f,c,R,t):\n",
    "        self.f = f\n",
    "        self.c = c\n",
    "        self.R = R\n",
    "        self.t = t\n",
    "\n",
    "    def __str__(self):\n",
    "        return f'Camera : \\n f={self.f} \\n c={self.c.T} \\n R={self.R} \\n t = {self.t.T}'\n",
    "\n",
    "    def project(self,pts3):\n",
    "        \"\"\"\n",
    "        Project the given 3D points in world coordinates into the specified camera\n",
    "\n",
    "        Parameters\n",
    "        ----------\n",
    "        pts3 : 2D numpy.array (dtype=float)\n",
    "            Coordinates of N points stored in a array of shape (3,N)\n",
    "\n",
    "        Returns\n",
    "        -------\n",
    "        pts2 : 2D numpy.array (dtype=float)\n",
    "            Image coordinates of N points stored in an array of shape (2,N)\n",
    "\n",
    "        \"\"\"\n",
    "        # get point location relative to camera\n",
    "        pcam = self.R.transpose() @ (pts3 - self.t)\n",
    "        #project\n",
    "        p = self.f * (pcam / pcam[2,:])\n",
    "        # offset principal point\n",
    "        pts2 = p[0:2,:] + self.c\n",
    "        return(pts2)\n",
    "\n",
    "\n",
    "    def update_extrinsics(self,params):\n",
    "        \"\"\"\n",
    "        Given a vector of extrinsic parameters, update the camera\n",
    "        to use the provided parameters.\n",
    "\n",
    "        Parameters\n",
    "        ----------\n",
    "        params : 1D numpy.array of shape (6,) (dtype=float)\n",
    "            Camera parameters we are optimizing over stored in a vector\n",
    "            params[:3] are the rotation angles, params[3:] are the translation\n",
    "\n",
    "        \"\"\"\n",
    "        #... update rotation and translation\n",
    "\n",
    "        self.R = makerotation(params[0],params[1],params[2])\n",
    "        self.t = np.array([[params[3],params[4],params[5]]]).T"
   ],
   "metadata": {
    "collapsed": false
   }
  },
  {
   "cell_type": "code",
   "execution_count": 12,
   "outputs": [],
   "source": [
    "def residuals(pts3,pts2,cam,params):\n",
    "    \"\"\"\n",
    "    Compute the difference between the projection of 3D points by the camera\n",
    "    with the given parameters and the observed 2D locations\n",
    "\n",
    "    Parameters\n",
    "    ----------\n",
    "    pts3 : 2D numpy.array (dtype=float)\n",
    "        Coordinates of N points stored in a array of shape (3,N)\n",
    "\n",
    "    pts2 : 2D numpy.array (dtype=float)\n",
    "        Coordinates of N points stored in a array of shape (2,N)\n",
    "\n",
    "    params : 1D numpy.array (dtype=float)\n",
    "        Camera parameters we are optimizing stored in a vector of shape (6,)\n",
    "\n",
    "    Returns\n",
    "    -------\n",
    "    residual : 1D numpy.array (dtype=float)\n",
    "        Vector of residual 2D projection errors of size 2*N\n",
    "\n",
    "    \"\"\"\n",
    "    #... make sure to flatten into  vector before returning, so it works with scipy.optimize.leastsq\n",
    "\n",
    "    cam.update_extrinsics(params)\n",
    "    pts2proj = cam.project(pts3)\n",
    "    residual = pts2 - pts2proj\n",
    "    return residual.flatten()\n"
   ],
   "metadata": {
    "collapsed": false
   }
  },
  {
   "cell_type": "code",
   "execution_count": 13,
   "outputs": [
    {
     "name": "stdout",
     "output_type": "stream",
     "text": [
      "Camera : \n",
      " f=200 \n",
      " c=[[50 50]] \n",
      " R=[[1. 0. 0.]\n",
      " [0. 1. 0.]\n",
      " [0. 0. 1.]] \n",
      " t = [[ 0.5  0.5 -2.5]]\n",
      "Camera : \n",
      " f=200 \n",
      " c=[[50 50]] \n",
      " R=[[ 0.9962 -0.0872  0.    ]\n",
      " [ 0.0872  0.9962  0.    ]\n",
      " [ 0.      0.      1.    ]] \n",
      " t = [[ 0.5  0.5 -3. ]]\n",
      "[[0 0 0 0 1 1 1 1]\n",
      " [0 0 1 1 1 0 0 1]\n",
      " [0 1 1 0 0 0 1 1]]\n"
     ]
    },
    {
     "data": {
      "text/plain": "<Figure size 640x480 with 1 Axes>",
      "image/png": "[encoded data removed]"
     },
     "metadata": {},
     "output_type": "display_data"
    },
    {
     "name": "stdout",
     "output_type": "stream",
     "text": [
      "\n",
      " residuals of camB relative to camA\n",
      "[-3.8883 -1.4877 -5.8455 -9.6987  3.8883  9.6987  5.8455  1.4877 -9.6987\n",
      " -5.8455  1.4877  3.8883  9.6987 -3.8883 -1.4877  5.8455]\n",
      "[[-3.8883 -1.4877 -5.8455 -9.6987  3.8883  9.6987  5.8455  1.4877]\n",
      " [-9.6987 -5.8455  1.4877  3.8883  9.6987 -3.8883 -1.4877  5.8455]]\n",
      "\n",
      " residuals of camA relative to camB\n",
      "[ 3.8883  1.4877  5.8455  9.6987 -3.8883 -9.6987 -5.8455 -1.4877  9.6987\n",
      "  5.8455 -1.4877 -3.8883 -9.6987  3.8883  1.4877 -5.8455]\n",
      "[[ 3.8883  1.4877  5.8455  9.6987 -3.8883 -9.6987 -5.8455 -1.4877]\n",
      " [ 9.6987  5.8455 -1.4877 -3.8883 -9.6987  3.8883  1.4877 -5.8455]]\n"
     ]
    }
   ],
   "source": [
    "#\n",
    "# Test the residual function to make sure it is doing the right thing.\n",
    "#\n",
    "\n",
    "# create two cameras with same intrinsic but slightly different extrinsic parameters\n",
    "c = [50,50]\n",
    "camA = Camera(f=200,c=np.array([c]).T,t=np.array([[0,0,0]]).T, R=makerotation(0,0,0))\n",
    "camB = Camera(f=200,c=np.array([c]).T,t=np.array([[0,0,0]]).T, R=makerotation(0,0,0))\n",
    "\n",
    "paramsA = np.array([0,0,0,0.5,0.5,-2.5])\n",
    "paramsB = np.array([0,0,5,0.5,0.5,-3])\n",
    "camA.update_extrinsics(paramsA)\n",
    "camB.update_extrinsics(paramsB)\n",
    "\n",
    "print(camA)\n",
    "print(camB)\n",
    "\n",
    "# create a test object (corners of a 3D cube)\n",
    "pts3 = np.array([[0,0,0],[0,0,1],[0,1,1],[0,1,0],[1,1,0],[1,0,0],[1,0,1],[1,1,1]]).T\n",
    "print(pts3)\n",
    "# visualize the two projections\n",
    "pts2A = camA.project(pts3)\n",
    "pts2B = camB.project(pts3)\n",
    "\n",
    "plt.plot(pts2A[0,:],pts2A[1,:],'r')\n",
    "plt.plot(pts2B[0,:],pts2B[1,:],'b')\n",
    "#visualize the sensor frame assuming our sensor is centered around the principal point\n",
    "plt.gca().add_patch(patches.Rectangle((0,0),2*c[0],2*c[1],color='g',fill=False,ls='--'))\n",
    "plt.plot(c[0],c[1],'g+')\n",
    "plt.axis('square')\n",
    "plt.show()\n",
    "\n",
    "# double check that the residuals are the same as the difference in the reprojected coordinates\n",
    "print(\"\\n residuals of camB relative to camA\")\n",
    "print(residuals(pts3,pts2A,camB,paramsB))\n",
    "print(pts2A-pts2B)\n",
    "\n",
    "print(\"\\n residuals of camA relative to camB\")\n",
    "print(residuals(pts3,pts2B,camA,paramsA))\n",
    "print(pts2B-pts2A)\n"
   ],
   "metadata": {
    "collapsed": false
   }
  },
  {
   "cell_type": "markdown",
   "source": [
    "# 3. Camera Pose Estimation\n",
    "\n",
    "We are now ready to estimate camera pose using optimize.  Implement a function **calibratePose** which takes as input the 3D coordinates of a calibration object, the observed 2D coordinates in the image, and an initial guess of the camera. Your function should use **scipy.optimize.leastsq** to optimize the extrinsic parameters in order to minimize the reprojection error. Since the **residuals** function takes additional arguments and **leastsq** expects a function which only takes the parameter vector as input, you should use Python's **lambda** function to wrap **residuals**, subistituting in the parameters that are fixed during the optimization. Once you have determined the optimum parameters, update the extrinsic parameters to the optimum and return the resulting camera.\n",
    "\n",
    "\n",
    "## 3.1 Implementation [30pts]"
   ],
   "metadata": {
    "collapsed": false
   }
  },
  {
   "cell_type": "code",
   "execution_count": 14,
   "outputs": [],
   "source": [
    "def calibratePose(pts3,pts2,cam_init,params_init):\n",
    "    \"\"\"\n",
    "    Calibrate the provided camera by updating R,t so that pts3 projects\n",
    "    as close as possible to pts2\n",
    "\n",
    "    Parameters\n",
    "    ----------\n",
    "    pts3 : 2D numpy.array (dtype=float)\n",
    "        Coordinates of N points stored in a array of shape (3,N)\n",
    "\n",
    "    pts2 : 2D numpy.array (dtype=float)\n",
    "        Coordinates of N points stored in a array of shape (2,N)\n",
    "\n",
    "    cam : Camera\n",
    "        Initial estimate of camera\n",
    "\n",
    "    params_init : 1D numpy.array (dtype=float)\n",
    "        Initial estimate of camera extrinsic parameters ()\n",
    "        params[0:3] are the rotation angles, params[3:6] are the translation\n",
    "\n",
    "    Returns\n",
    "    -------\n",
    "    cam : Camera\n",
    "        Refined estimate of camera with updated R,t parameters\n",
    "\n",
    "    \"\"\"\n",
    "\n",
    "    # use scipy.optimize.leastsq to optimize for params and return the new camera ...\n",
    "    new_cam = cam_init\n",
    "    residuals_func = lambda params: residuals(pts3,pts2,new_cam,params)\n",
    "    params_opt, _ = scipy.optimize.leastsq(residuals_func,params_init)\n",
    "    new_cam.update_extrinsics(params_opt)\n",
    "    return new_cam\n",
    "\n"
   ],
   "metadata": {
    "collapsed": false
   }
  },
  {
   "cell_type": "markdown",
   "source": [
    "# 3.2 Synthetic Test Example and Failure Cases [10pts]\n",
    "\n",
    "Use the code below to check that your calibrate function works. Add some code to also visualize the point locations in 3D and the location and orientation of the camera (i.e., using the 3D plotting functions from Assignment 2)\n",
    "\n",
    "Once you are confident that your calibration function is behaving correctly, you should experiment with changing the initial parameters.  Find a set of initial parameters which yields a ***wrong*** solution (i.e. where the Final Camera is not similar to the True Camera).  In the text box below indicate what bad initialization you used and the resulting set of camera parameters after the optimization. Give a brief explanation of where this bad camera is located and what direction it is oriented in."
   ],
   "metadata": {
    "collapsed": false
   }
  },
  {
   "cell_type": "code",
   "execution_count": 15,
   "outputs": [
    {
     "name": "stdout",
     "output_type": "stream",
     "text": [
      "\n",
      " True Camera\n",
      "Camera : \n",
      " f=50 \n",
      " c=[[50 50]] \n",
      " R=[[ 1.      0.      0.    ]\n",
      " [ 0.      0.9848 -0.1736]\n",
      " [ 0.      0.1736  0.9848]] \n",
      " t = [[-0.25 -0.25 -2.  ]]\n",
      "\n",
      " Initial Camera\n",
      "Camera : \n",
      " f=50 \n",
      " c=[[50 50]] \n",
      " R=[[1. 0. 0.]\n",
      " [0. 1. 0.]\n",
      " [0. 0. 1.]] \n",
      " t = [[ 0  0 -2]]\n",
      "\n",
      " Final Camera\n",
      "[[56.9556 55.025  55.1502 57.3349 85.5477 82.6579 72.0918 73.2888]\n",
      " [65.5179 63.2871 81.7834 94.3342 95.1146 65.8725 63.5044 82.1761]]\n"
     ]
    },
    {
     "data": {
      "text/plain": "<Figure size 640x480 with 1 Axes>",
      "image/png": "[encoded data removed]"
     },
     "metadata": {},
     "output_type": "display_data"
    }
   ],
   "source": [
    "# 3D calibration object\n",
    "pts3 = np.array([[0,0,0],[0,0,1],[0,1,1],[0,1,0],[1,1,0],[1,0,0],[1,0,1],[1,1,1]]).T\n",
    "\n",
    "# true camera\n",
    "c = [50,50]\n",
    "cam_true = Camera(f=50,c=np.array([c]).T,t=np.array([[-0.25,-0.25,-2]]).T, R=makerotation(10,0,0))\n",
    "\n",
    "print(\"\\n True Camera\")\n",
    "print(cam_true)\n",
    "\n",
    "# image of calibration object with some simulated noise in the 2D locations\n",
    "pts2 = cam_true.project(pts3)\n",
    "noiselevel = 0.5\n",
    "pts2 = pts2 + noiselevel*np.random.randn(pts2.shape[0],pts2.shape[1])\n",
    "\n",
    "# initial guess of camera params\n",
    "cam = Camera(f=50,c=np.array([[50,50]]).T,t=np.array([[0,0,0]]).T, R=makerotation(0,0,0))\n",
    "params_init = np.array([0,0,0,0,0,-2])\n",
    "cam.update_extrinsics(params_init)\n",
    "\n",
    "print(\"\\n Initial Camera\")\n",
    "print(cam)\n",
    "pts2init = cam.project(pts3)\n",
    "\n",
    "# now run calibration\n",
    "cam = calibratePose(pts3,pts2,cam,params_init)\n",
    "\n",
    "print(\"\\n Final Camera\")\n",
    "\n",
    "pts2final = cam.project(pts3)\n",
    "print(pts2final)\n",
    "#\n",
    "# Plot the true, initial and final reprojections\n",
    "# The final reprojection should be on top of the true image\n",
    "#\n",
    "plt.plot(pts2[0,:],pts2[1,:],'bo')\n",
    "plt.plot(pts2init[0,:],pts2init[1,:],'r')\n",
    "plt.plot(pts2final[0,:],pts2final[1,:],'k')\n",
    "plt.gca().add_patch(patches.Rectangle((0,0),2*c[0],2*c[1],color='g',fill=False,ls='--'))\n",
    "plt.plot(c[0],c[1],'g+')\n",
    "plt.axis('square')\n",
    "plt.show()\n",
    "\n",
    "#\n",
    "# Add some additional visualiztion here to show the points in 3D and the locations and orientations\n",
    "# of cam_true and cam.  You can either use a 3D plot or show multiple 2D plots (e.g. overhead\n",
    "# and side views).  Play with this! Maybe try the visualization tools in Open3D if you want even more fun!\n",
    "#\n"
   ],
   "metadata": {
    "collapsed": false
   }
  },
  {
   "cell_type": "code",
   "execution_count": 16,
   "outputs": [
    {
     "name": "stdout",
     "output_type": "stream",
     "text": [
      "\n",
      " True Camera\n",
      "Camera : \n",
      " f=50 \n",
      " c=[[50 50]] \n",
      " R=[[ 1.      0.      0.    ]\n",
      " [ 0.      0.9848 -0.1736]\n",
      " [ 0.      0.1736  0.9848]] \n",
      " t = [[-0.25 -0.25 -2.  ]]\n",
      "\n",
      " Initial Camera\n",
      "Camera : \n",
      " f=50 \n",
      " c=[[50 50]] \n",
      " R=[[ 0.9976 -0.0698  0.    ]\n",
      " [ 0.0698  0.9976  0.    ]\n",
      " [ 0.      0.      1.    ]] \n",
      " t = [[  1   0 -10]]\n",
      "\n",
      " Final Camera\n",
      "Camera : \n",
      " f=50 \n",
      " c=[[50 50]] \n",
      " R=[[-0.7949  0.3127  0.5199]\n",
      " [ 0.2181 -0.6523  0.7259]\n",
      " [ 0.5661  0.6904  0.4503]] \n",
      " t = [[1.5076 1.6129 2.8529]]\n"
     ]
    },
    {
     "data": {
      "text/plain": "<Figure size 640x480 with 1 Axes>",
      "image/png": "[encoded data removed]"
     },
     "metadata": {},
     "output_type": "display_data"
    }
   ],
   "source": [
    "#\n",
    "# Now repeat the calibration but with a setting for params_init that results\n",
    "# in the optimization finding a poor solution (a bad local minima)\n",
    "#\n",
    "\n",
    "#\n",
    "# Visualize the resulting bad solution.\n",
    "#\n",
    "# 3D calibration object\n",
    "pts3 = np.array([[0,0,0],[0,0,1],[0,1,1],[0,1,0],[1,1,0],[1,0,0],[1,0,1],[1,1,1]]).T\n",
    "\n",
    "# true camera\n",
    "c = [50,50]\n",
    "cam_true = Camera(f=50,c=np.array([c]).T,t=np.array([[-0.25,-0.25,-2]]).T, R=makerotation(10,0,0))\n",
    "\n",
    "print(\"\\n True Camera\")\n",
    "print(cam_true)\n",
    "\n",
    "# image of calibration object with some simulated noise in the 2D locations\n",
    "pts2 = cam_true.project(pts3)\n",
    "noiselevel = 0\n",
    "pts2 = pts2 + noiselevel*np.random.randn(pts2.shape[0],pts2.shape[1])\n",
    "\n",
    "# initial guess of camera params\n",
    "cam = Camera(f=50,c=np.array([[50,50]]).T,t=np.array([[0,0,0]]).T, R=makerotation(0,0,0))\n",
    "params_init = np.array([0,0,4,1,0,-10])\n",
    "cam.update_extrinsics(params_init)\n",
    "\n",
    "print(\"\\n Initial Camera\")\n",
    "print(cam)\n",
    "pts2init = cam.project(pts3)\n",
    "\n",
    "# now run calibration\n",
    "cam = calibratePose(pts3,pts2,cam,params_init)\n",
    "\n",
    "print(\"\\n Final Camera\")\n",
    "print(cam)\n",
    "pts2final = cam.project(pts3)\n",
    "\n",
    "#\n",
    "# Plot the true, initial and final reprojections\n",
    "# The final reprojection should be on top of the true image\n",
    "#\n",
    "plt.plot(pts2[0,:],pts2[1,:],'bo')\n",
    "plt.plot(pts2init[0,:],pts2init[1,:],'r')\n",
    "plt.plot(pts2final[0,:],pts2final[1,:],'k')\n",
    "plt.gca().add_patch(patches.Rectangle((0,0),2*c[0],2*c[1],color='g',fill=False,ls='--'))\n",
    "plt.plot(c[0],c[1],'g+')\n",
    "plt.axis('square')\n",
    "plt.show()\n",
    "\n",
    "#\n",
    "# Add some additional visualiztion here to show the points in 3D and the locations and orientations\n",
    "# of cam_true and cam.  You can either use a 3D plot or show multiple 2D plots (e.g. overhead\n",
    "# and side views).  Play with this! Maybe try the visualization tools in Open3D if you want even more fun!\n",
    "#\n",
    "\n",
    "# ....."
   ],
   "metadata": {
    "collapsed": false
   }
  },
  {
   "cell_type": "markdown",
   "source": [
    "#### Explain one of the failures including where the initial camera was that led to failure."
   ],
   "metadata": {
    "collapsed": false
   }
  },
  {
   "cell_type": "markdown",
   "source": [
    "### ..."
   ],
   "metadata": {
    "collapsed": false
   }
  },
  {
   "cell_type": "markdown",
   "source": [
    "# 4. Calibration from real images [30pts]\n",
    "\n",
    "There is a provided set of calibration images (images of a planar checkerboard) along with stereo pair depicting an object. In order to calibrate the intrinsic camera parameters we will use the OpenCV library which includes functionality for automatically detecting corners of the checkerboard and estimating intrinsic parameters.\n",
    "\n",
    "1. Install OpenCV python libraries in your Anaconda environment. You can do this from the terminal via the command **conda install opencv** or via the Anconda Navigator gui.\n",
    "\n",
    "2. Read through the provided standalone script **calibrate.py** and modify as necessary in order to compute the intrinsic camera parameters from the set of provided calibration images.\n",
    "\n",
    "3. Load in the intrinsic parameter calibration data saved by the script in *calibration.pickle*. Since our camera model assumes that the focal length is the same in the x and y axes, you can set your f to be the average of the two estimated by the script.\n",
    "\n",
    "4. Load in the test images *Left.jpg* and *Right.jpg*\n",
    "\n",
    "5. Use the **cv2.findChessboardCorners** function in order to automatically get the 2D coordinates of the corners in the image.\n",
    "\n",
    "6. Specify the 3D coordinates of the 6x8 grid of checkerboard corners. The squares are 2.8cm x 2.8cm.\n",
    "\n",
    "8. Use your **calibratePose** function to estimate the R,t for each camera. You will like need to experiment with selecting the initial parameters in order to get a good solution (e.g., translate so the cameras have positive z coordinates and rotate so they are looking down on the checkerboard).\n",
    "\n",
    "9. Finally, once you have the calibrated pose for each camera, use your triangulate function to estimate the 3D coordinates of the checkerboard corners based on the 2D points in the left and right camera.\n",
    "\n",
    "\n",
    "## 4.1 Implementation"
   ],
   "metadata": {
    "collapsed": false
   }
  },
  {
   "cell_type": "code",
   "execution_count": 17,
   "outputs": [],
   "source": [
    "def triangulate(pts2L,camL,pts2R,camR):\n",
    "    \"\"\"\n",
    "    Triangulate the set of points seen at location pts2L / pts2R in the\n",
    "    corresponding pair of cameras. Return the 3D coordinates relative\n",
    "    to the global coordinate system\n",
    "\n",
    "\n",
    "    Parameters\n",
    "    ----------\n",
    "    pts2L : 2D numpy.array (dtype=float)\n",
    "        Coordinates of N points stored in a array of shape (2,N) seen from camL camera\n",
    "\n",
    "    pts2R : 2D numpy.array (dtype=float)\n",
    "        Coordinates of N points stored in a array of shape (2,N) seen from camR camera\n",
    "\n",
    "    camL : Camera\n",
    "        The first \"left\" camera view\n",
    "\n",
    "    camR : Camera\n",
    "        The second \"right\" camera view\n",
    "\n",
    "    Returns\n",
    "    -------\n",
    "    pts3 : 2D numpy.array (dtype=float)\n",
    "        (3,N) array containing 3D coordinates of the points in global coordinates\n",
    "\n",
    "    \"\"\"\n",
    "    assert(pts2L.shape[0]==2)\n",
    "    assert(pts2R.shape[0]==2)\n",
    "    assert(pts2L.shape[1]==pts2R.shape[1])\n",
    "\n",
    "    N = pts2L.shape[1]  # Number of points\n",
    "\n",
    "    #Initialize pts3 with shape (3,)\n",
    "    pts3 = np.empty((3,0), dtype=float)\n",
    "\n",
    "    for i in range(N):\n",
    "        #Q_L  = [(x'_L - C_x_L)/f_L, (y'_L - C_y_L)/f_L, 1]\n",
    "        #Q_R  = [(x'_R - C_x_R)/f_R, (y'_R - C_y_R)/f_R, 1]\n",
    "        Q_L = np.array([(pts2L[0,i] - camL.c[0])/camL.f, (pts2L[1,i] - camL.c[1])/camL.f, [1]], dtype=float)\n",
    "        Q_R = np.array([(pts2R[0,i] - camR.c[0])/camR.f, (pts2R[1,i] - camR.c[1])/camR.f, [1]], dtype=float)\n",
    "\n",
    "        #A = [R_L*Q_L, -R_R*Q_R]\n",
    "        #b = [t_L - t_R]\n",
    "        #A should be a 3X2 matrix\n",
    "        A = np.hstack((camL.R @ Q_L, -camR.R @ Q_R))\n",
    "        b = camR.t - camL.t\n",
    "\n",
    "        # #Solve for z\n",
    "        z = np.linalg.lstsq(A, b, rcond=None)[0]\n",
    "\n",
    "        #\n",
    "        # #Compute 3D point\n",
    "        #P_L = Z_L * Q_L\n",
    "        #P_R = Z_R * Q_R\n",
    "        #P_1 = R_L @ P_L + t_L\n",
    "        #P_2 = R_R @ P_R + t_R\n",
    "        #P = (P_1 + P_2)/2\n",
    "\n",
    "        P_L =  z[0] * Q_L\n",
    "        P_R =  z[1] * Q_R\n",
    "        P_1 = camL.R @ P_L + camL.t\n",
    "        P_2 = camR.R @ P_R + camR.t\n",
    "        P = (P_1 + P_2)/2\n",
    "\n",
    "        #Transform P to world coordinates\n",
    "        pts3 = np.hstack((pts3, P))\n",
    "\n",
    "\n",
    "    assert(pts3.shape[0]==3)\n",
    "    assert(pts3.shape[1]==N)\n",
    "\n",
    "    return pts3\n"
   ],
   "metadata": {
    "collapsed": false
   }
  },
  {
   "cell_type": "code",
   "execution_count": 19,
   "outputs": [
    {
     "ename": "SyntaxError",
     "evalue": "invalid syntax (300415181.py, line 11)",
     "output_type": "error",
     "traceback": [
      "\u001B[1;36m  Cell \u001B[1;32mIn[19], line 11\u001B[1;36m\u001B[0m\n\u001B[1;33m    camL = #...\u001B[0m\n\u001B[1;37m           ^\u001B[0m\n\u001B[1;31mSyntaxError\u001B[0m\u001B[1;31m:\u001B[0m invalid syntax\n"
     ]
    }
   ],
   "source": [
    "import cv2\n",
    "\n",
    "# load in the intrinsic camera parameters\n",
    "\n",
    "#fid = open('calibration.pickle','rb')\n",
    "#calib = pickle.load(fid)\n",
    "#fid.close()\n",
    "\n",
    "# create Camera objects representing the left and right cameras\n",
    "# use the known intrinsic parameters you loaded in.\n",
    "camL = #...\n",
    "camR = #...\n",
    "\n",
    "# load in the left and right images and find the coordinates of\n",
    "# the chessboard corners using OpenCV\n",
    "imgL = plt.imread('calib1/Left.jpg')\n",
    "ret, cornersL = cv2.findChessboardCorners(imgL, (8,6), None)\n",
    "pts2L = cornersL.squeeze().T\n",
    "\n",
    "imgR = plt.imread('calib1/Right.jpg')\n",
    "ret, cornersR = cv2.findChessboardCorners(imgR, (8,6), None)\n",
    "pts2R = cornersR.squeeze().T\n",
    "\n",
    "# generate the known 3D point coordinates of points on the checkerboard in cm\n",
    "# you need to modify this code to take into account that the\n",
    "# squares are 2.8cm x 2.8cm\n",
    "pts3 = np.zeros((3,6*8))\n",
    "xx,yy = np.meshgrid(np.arange(8),np.arange(6))\n",
    "pts3[0,:] = 2.8*yy.reshape(1,-1)\n",
    "pts3[1,:] = 2.8*xx.reshape(1,-1)\n",
    "\n",
    "\n",
    "# Now use your calibratePose function to get the extrinsic parameters\n",
    "# for the two images. You may need to experiment with the initialization\n",
    "# in order to get a good result\n",
    "paramsL_init = np.array([0,0,0,0,0,10])\n",
    "paramsR_init = np.array([0,0,0,0,0,10])\n",
    "\n",
    "camL = calibratePose(pts3,pts2L,camL,paramsL_init)\n",
    "camR = calibratePose(pts3,pts2R,camR,paramsR_init)\n",
    "\n",
    "# Finally, triangulate the checkerboard points based on the estimated camera pose\n",
    "pts3r = triangulate(pts2L,camL,pts2R,camR)\n",
    "\n",
    "# Display the reprojected points overlayed on the images\n",
    "plt.rcParams['figure.figsize']=[15,15]\n",
    "pts2Lp = camL.project(pts3)\n",
    "plt.imshow(imgL)\n",
    "plt.plot(pts2Lp[0,:],pts2Lp[1,:],'bo')\n",
    "plt.plot(pts2L[0,:],pts2L[1,:],'rx')\n",
    "plt.show()\n",
    "\n",
    "pts2Rp = camR.project(pts3)\n",
    "plt.imshow(imgR)\n",
    "plt.plot(pts2Rp[0,:],pts2Rp[1,:],'bo')\n",
    "plt.plot(pts2R[0,:],pts2R[1,:],'rx')\n",
    "plt.show()\n",
    "\n",
    "print(camL)\n",
    "print(camR)\n",
    "print(np.sqrt(np.sum((camL.t-camR.t)*(camL.t-camR.t))))\n",
    "\n",
    "print(np.mean(np.sqrt(np.sum((pts3r-pts3)*(pts3r-pts3),axis=0))))"
   ],
   "metadata": {
    "collapsed": false
   }
  },
  {
   "cell_type": "code",
   "execution_count": null,
   "outputs": [],
   "source": [
    "import visutils\n",
    "\n",
    "# generate coordinates of a line segment running from the center\n",
    "# of the camera to 3 units in front of the camera\n",
    "lookL = np.hstack((camL.t,camL.t+camL.R @ np.array([[0,0,2]]).T))\n",
    "lookR = np.hstack((camR.t,camR.t+camR.R @ np.array([[0,0,2]]).T))\n",
    "\n",
    "# visualize the left and right image overlaid\n",
    "fig = plt.figure()\n",
    "ax = fig.add_subplot(2,2,1,projection='3d')\n",
    "ax.plot(pts3[0,:],pts3[1,:],pts3[2,:],'.')\n",
    "ax.plot(pts3r[0,:],pts3r[1,:],pts3r[2,:],'rx')\n",
    "ax.plot(camR.t[0],camR.t[1],camR.t[2],'ro')\n",
    "ax.plot(camL.t[0],camL.t[1],camL.t[2],'bo')\n",
    "ax.plot(lookL[0,:],lookL[1,:],lookL[2,:],'b')\n",
    "ax.plot(lookR[0,:],lookR[1,:],lookR[2,:],'r')\n",
    "visutils.set_axes_equal_3d(ax)\n",
    "visutils.label_axes(ax)\n",
    "plt.title('scene 3D view')\n",
    "\n",
    "ax = fig.add_subplot(2,2,2)\n",
    "ax.plot(pts3[0,:],pts3[2,:],'.')\n",
    "ax.plot(pts3r[0,:],pts3r[2,:],'rx')\n",
    "ax.plot(camR.t[0],camR.t[2],'ro')\n",
    "ax.plot(camL.t[0],camL.t[2],'bo')\n",
    "ax.plot(lookL[0,:],lookL[2,:],'b')\n",
    "ax.plot(lookR[0,:],lookR[2,:],'r')\n",
    "plt.title('XZ-view')\n",
    "plt.grid()\n",
    "plt.xlabel('x')\n",
    "plt.ylabel('z')\n",
    "\n",
    "ax = fig.add_subplot(2,2,3)\n",
    "ax.plot(pts3[1,:],pts3[2,:],'.')\n",
    "ax.plot(pts3r[1,:],pts3r[2,:],'rx')\n",
    "ax.plot(camR.t[1],camR.t[2],'ro')\n",
    "ax.plot(camL.t[1],camL.t[2],'bo')\n",
    "ax.plot(lookL[1,:],lookL[2,:],'b')\n",
    "ax.plot(lookR[1,:],lookR[2,:],'r')\n",
    "plt.title('YZ-view')\n",
    "plt.grid()\n",
    "plt.xlabel('y')\n",
    "plt.ylabel('z')\n",
    "\n",
    "ax = fig.add_subplot(2,2,4)\n",
    "ax.plot(pts3[0,:],pts3[1,:],'.')\n",
    "ax.plot(pts3r[0,:],pts3r[1,:],'rx')\n",
    "ax.plot(camR.t[0],camR.t[1],'ro')\n",
    "ax.plot(camL.t[0],camL.t[1],'bo')\n",
    "ax.plot(lookL[0,:],lookL[1,:],'b')\n",
    "ax.plot(lookR[0,:],lookR[1,:],'r')\n",
    "plt.title('XY-view')\n",
    "plt.grid()\n",
    "plt.xlabel('x')\n",
    "plt.ylabel('y')"
   ],
   "metadata": {
    "collapsed": false
   }
  },
  {
   "cell_type": "markdown",
   "source": [
    "The code below provides a visualization of the estimate camera positions relative to the checkerboard."
   ],
   "metadata": {
    "collapsed": false
   }
  },
  {
   "cell_type": "markdown",
   "source": [
    "***\n",
    "## 4.2 Recovered Pose\n",
    "Using the provided calibration images, what are the recovered parameters for the left and right cameras?  How far apart are the camera centers in centimeters (i.e. what is the baseline) ?"
   ],
   "metadata": {
    "collapsed": false
   }
  },
  {
   "cell_type": "code",
   "execution_count": null,
   "outputs": [],
   "source": [],
   "metadata": {
    "collapsed": false
   }
  },
  {
   "cell_type": "markdown",
   "source": [
    "***\n",
    "# 4.3 Reconsruction Accuracy\n",
    "\n",
    "What is the average error (in cm) for your recovered 3D locations of the grid corner points relative to their true coordinates?  Where might this error be coming from?"
   ],
   "metadata": {
    "collapsed": false
   }
  },
  {
   "cell_type": "code",
   "execution_count": null,
   "outputs": [],
   "source": [],
   "metadata": {
    "collapsed": false
   }
  },
  {
   "cell_type": "markdown",
   "source": [
    "***\n",
    "# 4.4 Focal Length\n",
    "\n",
    "The photos were taken with an iPhone Xs. Teardowns of this device reveal that the sensor is 5.6mm wide. Based on this and your recovered value for f, what was the focal length in milimeters? Explain how you computed this. Is the result you get a reasonable match to the published focal length of of 4.25mm?"
   ],
   "metadata": {
    "collapsed": false
   }
  },
  {
   "cell_type": "code",
   "execution_count": null,
   "outputs": [],
   "source": [],
   "metadata": {
    "collapsed": false
   }
  }
 ],
 "metadata": {
  "kernelspec": {
   "display_name": "Python 3 (ipykernel)",
   "language": "python",
   "name": "python3"
  },
  "language_info": {
   "codemirror_mode": {
    "name": "ipython",
    "version": 3
   },
   "file_extension": ".py",
   "mimetype": "text/x-python",
   "name": "python",
   "nbconvert_exporter": "python",
   "pygments_lexer": "ipython3",
   "version": "3.10.11"
  }
 },
 "nbformat": 4,
 "nbformat_minor": 2
}
