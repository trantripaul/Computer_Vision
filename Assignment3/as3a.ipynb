{
 "cells": [
  {
   "cell_type": "markdown",
   "metadata": {},
   "source": [
    "# Assignment 3 A : Calibration part A (/80pts)"
   ]
  },
  {
   "cell_type": "markdown",
   "metadata": {},
   "source": [
    "---\n",
    "Please edit the cell below to include your name and student ID #"
   ]
  },
  {
   "cell_type": "markdown",
   "metadata": {},
   "source": [
    "**name:** Paul Tran\n",
    "\n",
    "**SID:** 57931045"
   ]
  },
  {
   "cell_type": "markdown",
   "metadata": {},
   "source": [
    "NOTE: In this assignment we will build on top of your **project** and **triangulate** functions from previous assignments.  If you weren't happy with your implementation from assignment 2, please consult with the TAs or your classmates to get things cleaned up before starting this assignment.\n",
    "\n",
    "\n",
    "# 1. Parameterizing 3D Rotations\n",
    "\n",
    "In order to optimize over the camera rotation during calibration, we need a way to parameterize the space of 3D rotations. There are many different ways to do this and each comes with different tradeoffs, but for our purposes we will adopt a simple approach of building a rotation by a sequence of rotations around the X, Y and Z axes (so called *Tait-Bryan angles*, see https://en.wikipedia.org/wiki/Euler_angles for more discussion)\n",
    "\n",
    "## 1.1 Implement [15pts]\n",
    "\n",
    "Write a function **makerotation** which takes as input three angles **rx,ry,rz** and returns a rotation matrix corresponding to rotating by **rx** degrees around the x-axis, followed by a rotation of **ry** degrees around the y-axis, followed by a rotation of **rz** degrees around the z-axis. "
   ]
  },
  {
   "cell_type": "code",
   "execution_count": 19,
   "metadata": {
    "ExecuteTime": {
     "end_time": "2023-10-26T03:06:16.908278200Z",
     "start_time": "2023-10-26T03:06:16.718233Z"
    }
   },
   "outputs": [],
   "source": [
    "import numpy as np\n",
    "import matplotlib.pyplot as plt\n",
    "import scipy.optimize\n",
    "import matplotlib.patches as patches\n",
    "from mpl_toolkits.mplot3d import Axes3D\n",
    "import visutils\n",
    "%matplotlib inline"
   ]
  },
  {
   "cell_type": "code",
   "execution_count": 20,
   "metadata": {
    "ExecuteTime": {
     "end_time": "2023-10-26T03:06:16.908278200Z",
     "start_time": "2023-10-26T03:06:16.733929900Z"
    }
   },
   "outputs": [],
   "source": [
    "def makerotation(rx,ry,rz):\n",
    "    \"\"\"\n",
    "    Generate a rotation matrix    \n",
    "\n",
    "    Parameters\n",
    "    ----------\n",
    "    rx,ry,rz : floats\n",
    "        Amount to rotate around x, y and z axes in degrees\n",
    "\n",
    "    Returns\n",
    "    -------\n",
    "    R : 2D numpy.array (dtype=float)\n",
    "        Rotation matrix of shape (3,3)\n",
    "    \"\"\"\n",
    "\n",
    "    rx = np.pi*rx/180.0\n",
    "    ry = np.pi*ry/180.0\n",
    "    rz = np.pi*rz/180.0\n",
    "    Rx = np.array( [[1,0,0],\n",
    "                     [0,np.cos(rx),-np.sin(rx)],\n",
    "                     [0,np.sin(rx),np.cos(rx)]])\n",
    "    Ry = np.array( [[np.cos(ry),0,np.sin(ry)],\n",
    "                     [0,1,0],\n",
    "                     [-np.sin(ry),0,np.cos(ry)]])\n",
    "    Rz = np.array( [[np.cos(rz),-np.sin(rz),0],\n",
    "                     [np.sin(rz),np.cos(rz),0],\n",
    "                     [0,0,1]])\n",
    "    R = (Rz @ Ry @ Rx)\n",
    "    return R"
   ]
  },
  {
   "cell_type": "markdown",
   "metadata": {},
   "source": [
    "## 1.2 Testing [5pts]\n",
    "\n",
    "Work out by hand what a 90 degree rotation should look like around each axis.  Then execute the test examples below and add some tests (asserts) to make sure your code passes. \n",
    "\n",
    "Find a way to achieve the same rotation as **makerotation(90,90,0)** but without using rotation around the x-axis.  That is, determine some angles so that **makerotation(0,?,?) == makerotation(90,90,0)**\n"
   ]
  },
  {
   "cell_type": "code",
   "execution_count": 21,
   "metadata": {
    "ExecuteTime": {
     "end_time": "2023-10-26T03:06:16.924265700Z",
     "start_time": "2023-10-26T03:06:16.749797800Z"
    }
   },
   "outputs": [
    {
     "name": "stdout",
     "output_type": "stream",
     "text": [
      "[[ 1.  0.  0.]\n",
      " [ 0.  0. -1.]\n",
      " [ 0.  1.  0.]]\n",
      "[[ 0.  0.  1.]\n",
      " [ 0.  1.  0.]\n",
      " [-1.  0.  0.]]\n",
      "[[ 0. -1.  0.]\n",
      " [ 1.  0.  0.]\n",
      " [ 0.  0.  1.]]\n",
      "[[ 0.  1.  0.]\n",
      " [ 0.  0. -1.]\n",
      " [-1.  0.  0.]]\n",
      "[[ 0.  1.  0.]\n",
      " [-0.  0. -1.]\n",
      " [-1.  0.  0.]]\n"
     ]
    }
   ],
   "source": [
    "#\n",
    "# test your function on some simple examples\n",
    "#\n",
    "np.set_printoptions(precision=4,suppress=True)\n",
    "\n",
    "print(makerotation(90,0,0))\n",
    "\n",
    "print(makerotation(0,90,0))\n",
    "\n",
    "print(makerotation(0,0,90))\n",
    "\n",
    "print(makerotation(90,90,0))\n",
    "\n",
    "ry = 90\n",
    "rz = -90\n",
    "print(makerotation(0,ry,rz))\n",
    "\n",
    "# figure out what ry,rz values are needed in order to pass this test\n",
    "assert((makerotation(90,90,0)-makerotation(0,ry,rz)<1e-9).all())"
   ]
  },
  {
   "cell_type": "markdown",
   "metadata": {},
   "source": [
    "# 2. Reprojection Error [20pts]\n",
    "\n",
    "We will now specify a function which computes the reprojection error.  This is the function that we will later optimize when calibrating the camera extrinsic parameters. Take a look at the documentation for **scipy.optimize.leastsq**.  The optimizer expects that our function should take a vector of parameters and \n",
    "return a vector of residuals which it will square and sum up to get the total error. For this reason, we will structure our code in the following way. \n",
    "\n",
    "First, write a member function for the Camera class called **update_extrinsics** which takes a vector of 6 parameters (rx,ry,rz,tx,ty,tz). The function should keep the same intrinsic parameters (f,c) but update the extrinsic parameters (R,t) based on the entries in the parameter vector.  \n",
    "\n",
    "Second, implement a function named **residuals** which computes the difference between a provided set of 2D point coordinates and the projection of 3D point coordinates by specified camera.  The residuals function takes as input the 3D points, the target 2D points, a camera with specified intrinsic parameters, and an extrinsic parameter vector. You should use **update_extrinsics** to update the extrinsic parameters, compute the projection of the 3D points with the updated camera and return a 1D vector containing the differences of all the x and y coordinates.\n"
   ]
  },
  {
   "cell_type": "code",
   "execution_count": 22,
   "metadata": {
    "ExecuteTime": {
     "end_time": "2023-10-26T03:06:16.945987600Z",
     "start_time": "2023-10-26T03:06:16.765787800Z"
    }
   },
   "outputs": [],
   "source": [
    "class Camera:\n",
    "    \"\"\"\n",
    "    A simple data structure describing camera parameters \n",
    "    \n",
    "    The parameters describing the camera\n",
    "    cam.f : float   --- camera focal length (in units of pixels)\n",
    "    cam.c : 2x1 vector  --- offset of principle point\n",
    "    cam.R : 3x3 matrix --- camera rotation\n",
    "    cam.t : 3x1 vector --- camera translation \n",
    "    \n",
    "    \"\"\"\n",
    "    \n",
    "    def __init__(self,f,c,R,t):\n",
    "        self.f = f\n",
    "        self.c = c\n",
    "        self.R = R\n",
    "        self.t = t\n",
    "\n",
    "    def __str__(self):\n",
    "        return f'Camera : \\n f={self.f} \\n c={self.c.T} \\n R={self.R} \\n t = {self.t.T}'\n",
    "    \n",
    "    def project(self,pts3):\n",
    "        \"\"\"\n",
    "        Project the given 3D points in world coordinates into the specified camera    \n",
    "\n",
    "        Parameters\n",
    "        ----------\n",
    "        pts3 : 2D numpy.array (dtype=float)\n",
    "            Coordinates of N points stored in a array of shape (3,N)\n",
    "\n",
    "        Returns\n",
    "        -------\n",
    "        pts2 : 2D numpy.array (dtype=float)\n",
    "            Image coordinates of N points stored in an array of shape (2,N)\n",
    "\n",
    "        \"\"\"\n",
    "        # get point location relative to camera\n",
    "        pcam = self.R.transpose() @ (pts3 - self.t)\n",
    "        #project\n",
    "        p = self.f * (pcam / pcam[2,:])\n",
    "        # offset principal point\n",
    "        pts2 = p[0:2,:] + self.c \n",
    "        return(pts2)\n",
    "\n",
    "\n",
    "    def update_extrinsics(self,params):\n",
    "        \"\"\"\n",
    "        Given a vector of extrinsic parameters, update the camera\n",
    "        to use the provided parameters.\n",
    "  \n",
    "        Parameters\n",
    "        ----------\n",
    "        params : 1D numpy.array of shape (6,) (dtype=float)\n",
    "            Camera parameters we are optimizing over stored in a vector\n",
    "            params[:3] are the rotation angles, params[3:] are the translation\n",
    "\n",
    "        \"\"\" \n",
    "        #... update rotation and translation \n",
    "        \n",
    "        self.R = makerotation(params[0],params[1],params[2])\n",
    "        self.t = np.array([[params[3],params[4],params[5]]]).T"
   ]
  },
  {
   "cell_type": "code",
   "execution_count": 23,
   "metadata": {
    "ExecuteTime": {
     "end_time": "2023-10-26T03:06:16.945987600Z",
     "start_time": "2023-10-26T03:06:16.787433700Z"
    }
   },
   "outputs": [],
   "source": [
    "def residuals(pts3,pts2,cam,params):\n",
    "    \"\"\"\n",
    "    Compute the difference between the projection of 3D points by the camera\n",
    "    with the given parameters and the observed 2D locations\n",
    "\n",
    "    Parameters\n",
    "    ----------\n",
    "    pts3 : 2D numpy.array (dtype=float)\n",
    "        Coordinates of N points stored in a array of shape (3,N)\n",
    "\n",
    "    pts2 : 2D numpy.array (dtype=float)\n",
    "        Coordinates of N points stored in a array of shape (2,N)\n",
    "\n",
    "    params : 1D numpy.array (dtype=float)\n",
    "        Camera parameters we are optimizing stored in a vector of shape (6,)\n",
    "\n",
    "    Returns\n",
    "    -------\n",
    "    residual : 1D numpy.array (dtype=float)\n",
    "        Vector of residual 2D projection errors of size 2*N\n",
    "        \n",
    "    \"\"\"\n",
    "    #... make sure to flatten into  vector before returning, so it works with scipy.optimize.leastsq\n",
    "    \n",
    "    cam.update_extrinsics(params)\n",
    "    pts2proj = cam.project(pts3)\n",
    "    residual = pts2 - pts2proj\n",
    "    return residual.flatten()\n"
   ]
  },
  {
   "cell_type": "code",
   "execution_count": 24,
   "metadata": {
    "ExecuteTime": {
     "end_time": "2023-10-26T03:06:17.068281300Z",
     "start_time": "2023-10-26T03:06:16.797517300Z"
    }
   },
   "outputs": [
    {
     "name": "stdout",
     "output_type": "stream",
     "text": [
      "Camera : \n",
      " f=200 \n",
      " c=[[50 50]] \n",
      " R=[[1. 0. 0.]\n",
      " [0. 1. 0.]\n",
      " [0. 0. 1.]] \n",
      " t = [[ 0.5  0.5 -2.5]]\n",
      "Camera : \n",
      " f=200 \n",
      " c=[[50 50]] \n",
      " R=[[ 0.9962 -0.0872  0.    ]\n",
      " [ 0.0872  0.9962  0.    ]\n",
      " [ 0.      0.      1.    ]] \n",
      " t = [[ 0.5  0.5 -3. ]]\n",
      "[[0 0 0 0 1 1 1 1]\n",
      " [0 0 1 1 1 0 0 1]\n",
      " [0 1 1 0 0 0 1 1]]\n"
     ]
    },
    {
     "data": {
      "text/plain": "<Figure size 640x480 with 1 Axes>",
      "image/png": "[encoded data removed]"
     },
     "metadata": {},
     "output_type": "display_data"
    },
    {
     "name": "stdout",
     "output_type": "stream",
     "text": [
      "\n",
      " residuals of camB relative to camA\n",
      "[-3.8883 -1.4877 -5.8455 -9.6987  3.8883  9.6987  5.8455  1.4877 -9.6987\n",
      " -5.8455  1.4877  3.8883  9.6987 -3.8883 -1.4877  5.8455]\n",
      "[[-3.8883 -1.4877 -5.8455 -9.6987  3.8883  9.6987  5.8455  1.4877]\n",
      " [-9.6987 -5.8455  1.4877  3.8883  9.6987 -3.8883 -1.4877  5.8455]]\n",
      "\n",
      " residuals of camA relative to camB\n",
      "[ 3.8883  1.4877  5.8455  9.6987 -3.8883 -9.6987 -5.8455 -1.4877  9.6987\n",
      "  5.8455 -1.4877 -3.8883 -9.6987  3.8883  1.4877 -5.8455]\n",
      "[[ 3.8883  1.4877  5.8455  9.6987 -3.8883 -9.6987 -5.8455 -1.4877]\n",
      " [ 9.6987  5.8455 -1.4877 -3.8883 -9.6987  3.8883  1.4877 -5.8455]]\n"
     ]
    }
   ],
   "source": [
    "#\n",
    "# Test the residual function to make sure it is doing the right thing.\n",
    "#\n",
    "\n",
    "# create two cameras with same intrinsic but slightly different extrinsic parameters\n",
    "c = [50,50]\n",
    "camA = Camera(f=200,c=np.array([c]).T,t=np.array([[0,0,0]]).T, R=makerotation(0,0,0))\n",
    "camB = Camera(f=200,c=np.array([c]).T,t=np.array([[0,0,0]]).T, R=makerotation(0,0,0))\n",
    "\n",
    "paramsA = np.array([0,0,0,0.5,0.5,-2.5])\n",
    "paramsB = np.array([0,0,5,0.5,0.5,-3])\n",
    "camA.update_extrinsics(paramsA)\n",
    "camB.update_extrinsics(paramsB)\n",
    "\n",
    "print(camA)\n",
    "print(camB)\n",
    "\n",
    "# create a test object (corners of a 3D cube) \n",
    "pts3 = np.array([[0,0,0],[0,0,1],[0,1,1],[0,1,0],[1,1,0],[1,0,0],[1,0,1],[1,1,1]]).T\n",
    "print(pts3)\n",
    "# visualize the two projections\n",
    "pts2A = camA.project(pts3)\n",
    "pts2B = camB.project(pts3)\n",
    "\n",
    "plt.plot(pts2A[0,:],pts2A[1,:],'r')\n",
    "plt.plot(pts2B[0,:],pts2B[1,:],'b')\n",
    "#visualize the sensor frame assuming our sensor is centered around the principal point\n",
    "plt.gca().add_patch(patches.Rectangle((0,0),2*c[0],2*c[1],color='g',fill=False,ls='--')) \n",
    "plt.plot(c[0],c[1],'g+')\n",
    "plt.axis('square')\n",
    "plt.show()\n",
    "\n",
    "# double check that the residuals are the same as the difference in the reprojected coordinates\n",
    "print(\"\\n residuals of camB relative to camA\")\n",
    "print(residuals(pts3,pts2A,camB,paramsB))\n",
    "print(pts2A-pts2B)\n",
    "\n",
    "print(\"\\n residuals of camA relative to camB\")\n",
    "print(residuals(pts3,pts2B,camA,paramsA))\n",
    "print(pts2B-pts2A)\n"
   ]
  },
  {
   "cell_type": "markdown",
   "metadata": {},
   "source": [
    "# 3. Camera Pose Estimation\n",
    "\n",
    "We are now ready to estimate camera pose using optimize.  Implement a function **calibratePose** which takes as input the 3D coordinates of a calibration object, the observed 2D coordinates in the image, and an initial guess of the camera. Your function should use **scipy.optimize.leastsq** to optimize the extrinsic parameters in order to minimize the reprojection error. Since the **residuals** function takes additional arguments and **leastsq** expects a function which only takes the parameter vector as input, you should use Python's **lambda** function to wrap **residuals**, subistituting in the parameters that are fixed during the optimization. Once you have determined the optimum parameters, update the extrinsic parameters to the optimum and return the resulting camera.\n",
    "\n",
    "\n",
    "## 3.1 Implementation [30pts]"
   ]
  },
  {
   "cell_type": "code",
   "execution_count": 46,
   "metadata": {
    "ExecuteTime": {
     "end_time": "2023-10-26T03:13:43.312730900Z",
     "start_time": "2023-10-26T03:13:43.296675500Z"
    }
   },
   "outputs": [],
   "source": [
    "def calibratePose(pts3,pts2,cam_init,params_init):\n",
    "    \"\"\"\n",
    "    Calibrate the provided camera by updating R,t so that pts3 projects\n",
    "    as close as possible to pts2\n",
    "\n",
    "    Parameters\n",
    "    ----------\n",
    "    pts3 : 2D numpy.array (dtype=float)\n",
    "        Coordinates of N points stored in a array of shape (3,N)\n",
    "\n",
    "    pts2 : 2D numpy.array (dtype=float)\n",
    "        Coordinates of N points stored in a array of shape (2,N)\n",
    "\n",
    "    cam : Camera\n",
    "        Initial estimate of camera\n",
    "        \n",
    "    params_init : 1D numpy.array (dtype=float)\n",
    "        Initial estimate of camera extrinsic parameters ()\n",
    "        params[0:3] are the rotation angles, params[3:6] are the translation\n",
    "\n",
    "    Returns\n",
    "    -------\n",
    "    cam : Camera\n",
    "        Refined estimate of camera with updated R,t parameters\n",
    "        \n",
    "    \"\"\"\n",
    "\n",
    "    # use scipy.optimize.leastsq to optimize for params and return the new camera ...\n",
    "    new_cam = cam_init\n",
    "    residuals_func = lambda params: residuals(pts3,pts2,new_cam,params)\n",
    "    params_opt, _ = scipy.optimize.leastsq(residuals_func,params_init)\n",
    "    new_cam.update_extrinsics(params_opt)\n",
    "    return new_cam\n",
    "    \n",
    "    "
   ]
  },
  {
   "cell_type": "markdown",
   "metadata": {},
   "source": [
    "# 3.2 Synthetic Test Example and Failure Cases [10pts]\n",
    "\n",
    "Use the code below to check that your calibrate function works. Add some code to also visualize the point locations in 3D and the location and orientation of the camera (i.e., using the 3D plotting functions from Assignment 2)\n",
    "\n",
    "Once you are confident that your calibration function is behaving correctly, you should experiment with changing the initial parameters.  Find a set of initial parameters which yields a ***wrong*** solution (i.e. where the Final Camera is not similar to the True Camera).  In the text box below indicate what bad initialization you used and the resulting set of camera parameters after the optimization. Give a brief explanation of where this bad camera is located and what direction it is oriented in.   "
   ]
  },
  {
   "cell_type": "code",
   "execution_count": 47,
   "metadata": {
    "ExecuteTime": {
     "end_time": "2023-10-26T03:13:44.638082600Z",
     "start_time": "2023-10-26T03:13:44.427640600Z"
    }
   },
   "outputs": [
    {
     "name": "stdout",
     "output_type": "stream",
     "text": [
      "\n",
      " True Camera\n",
      "Camera : \n",
      " f=50 \n",
      " c=[[50 50]] \n",
      " R=[[ 1.      0.      0.    ]\n",
      " [ 0.      0.9848 -0.1736]\n",
      " [ 0.      0.1736  0.9848]] \n",
      " t = [[-0.25 -0.25 -2.  ]]\n",
      "\n",
      " Initial Camera\n",
      "Camera : \n",
      " f=50 \n",
      " c=[[50 50]] \n",
      " R=[[1. 0. 0.]\n",
      " [0. 1. 0.]\n",
      " [0. 0. 1.]] \n",
      " t = [[ 0  0 -2]]\n",
      "\n",
      " Final Camera\n",
      "[[56.0581 54.466  54.8774 56.8497 85.3654 82.036  71.6517 73.1383]\n",
      " [65.7563 63.3818 82.008  94.9017 95.1819 65.6476 63.2902 82.0743]]\n"
     ]
    },
    {
     "data": {
      "text/plain": "<Figure size 640x480 with 1 Axes>",
      "image/png": "[encoded data removed]"
     },
     "metadata": {},
     "output_type": "display_data"
    }
   ],
   "source": [
    "# 3D calibration object\n",
    "pts3 = np.array([[0,0,0],[0,0,1],[0,1,1],[0,1,0],[1,1,0],[1,0,0],[1,0,1],[1,1,1]]).T\n",
    "\n",
    "# true camera\n",
    "c = [50,50]\n",
    "cam_true = Camera(f=50,c=np.array([c]).T,t=np.array([[-0.25,-0.25,-2]]).T, R=makerotation(10,0,0))\n",
    "\n",
    "print(\"\\n True Camera\")\n",
    "print(cam_true)\n",
    "\n",
    "# image of calibration object with some simulated noise in the 2D locations\n",
    "pts2 = cam_true.project(pts3)\n",
    "noiselevel = 0.5\n",
    "pts2 = pts2 + noiselevel*np.random.randn(pts2.shape[0],pts2.shape[1])\n",
    "\n",
    "# initial guess of camera params\n",
    "cam = Camera(f=50,c=np.array([[50,50]]).T,t=np.array([[0,0,0]]).T, R=makerotation(0,0,0))\n",
    "params_init = np.array([0,0,0,0,0,-2]) \n",
    "cam.update_extrinsics(params_init)\n",
    "\n",
    "print(\"\\n Initial Camera\")\n",
    "print(cam)\n",
    "pts2init = cam.project(pts3)\n",
    "\n",
    "# now run calibration\n",
    "cam = calibratePose(pts3,pts2,cam,params_init)\n",
    "\n",
    "print(\"\\n Final Camera\")\n",
    "pts2final = cam.project(pts3)\n",
    "print(pts2final)\n",
    "\n",
    "#\n",
    "# Plot the true, initial and final reprojections\n",
    "# The final reprojection should be on top of the true image\n",
    "#\n",
    "plt.plot(pts2[0,:],pts2[1,:],'bo')\n",
    "plt.plot(pts2init[0,:],pts2init[1,:],'r')\n",
    "plt.plot(pts2final[0,:],pts2final[1,:],'k')\n",
    "plt.gca().add_patch(patches.Rectangle((0,0),2*c[0],2*c[1],color='g',fill=False,ls='--')) \n",
    "plt.plot(c[0],c[1],'g+')\n",
    "plt.axis('square')\n",
    "plt.show()\n",
    "\n",
    "#\n",
    "# Add some additional visualiztion here to show the points in 3D and the locations and orientations\n",
    "# of cam_true and cam.  You can either use a 3D plot or show multiple 2D plots (e.g. overhead\n",
    "# and side views).  Play with this! Maybe try the visualization tools in Open3D if you want even more fun!\n",
    "#\n"
   ]
  },
  {
   "cell_type": "code",
   "execution_count": 76,
   "metadata": {
    "ExecuteTime": {
     "end_time": "2023-10-30T08:13:00.313364400Z",
     "start_time": "2023-10-30T08:12:59.997012300Z"
    }
   },
   "outputs": [
    {
     "name": "stdout",
     "output_type": "stream",
     "text": [
      "\n",
      " True Camera\n",
      "Camera : \n",
      " f=50 \n",
      " c=[[50 50]] \n",
      " R=[[ 1.      0.      0.    ]\n",
      " [ 0.      0.9848 -0.1736]\n",
      " [ 0.      0.1736  0.9848]] \n",
      " t = [[-0.25 -0.25 -2.  ]]\n",
      "\n",
      " Initial Camera\n",
      "Camera : \n",
      " f=50 \n",
      " c=[[50 50]] \n",
      " R=[[1. 0. 0.]\n",
      " [0. 1. 0.]\n",
      " [0. 0. 1.]] \n",
      " t = [[ 1  2 -2]]\n",
      "\n",
      " Final Camera\n",
      "Camera : \n",
      " f=50 \n",
      " c=[[50 50]] \n",
      " R=[[ 1.     -0.     -0.    ]\n",
      " [ 0.      0.9848 -0.1736]\n",
      " [ 0.      0.1736  0.9848]] \n",
      " t = [[-0.25 -0.25 -2.  ]]\n"
     ]
    },
    {
     "data": {
      "text/plain": "<Figure size 640x480 with 1 Axes>",
      "image/png": "[encoded data removed]"
     },
     "metadata": {},
     "output_type": "display_data"
    }
   ],
   "source": [
    "#\n",
    "# Now repeat the calibration but with a setting for params_init that results\n",
    "# in the optimization finding a poor solution (a bad local minima)\n",
    "#\n",
    "\n",
    "#\n",
    "# Visualize the resulting bad solution.\n",
    "#\n",
    "# 3D calibration object\n",
    "pts3 = np.array([[0,0,0],[0,0,1],[0,1,1],[0,1,0],[1,1,0],[1,0,0],[1,0,1],[1,1,1]]).T\n",
    "\n",
    "# true camera\n",
    "c = [50,50]\n",
    "cam_true = Camera(f=50,c=np.array([c]).T,t=np.array([[-0.25,-0.25,-2]]).T, R=makerotation(10,0,0))\n",
    "\n",
    "print(\"\\n True Camera\")\n",
    "print(cam_true)\n",
    "\n",
    "# image of calibration object with some simulated noise in the 2D locations\n",
    "pts2 = cam_true.project(pts3)\n",
    "noiselevel = 0\n",
    "pts2 = pts2 + noiselevel*np.random.randn(pts2.shape[0],pts2.shape[1])\n",
    "\n",
    "# initial guess of camera params\n",
    "cam = Camera(f=50,c=np.array([[50,50]]).T,t=np.array([[0,0,0]]).T, R=makerotation(0,0,0))\n",
    "params_init = np.array([0,0,0,1,2,-2]) \n",
    "cam.update_extrinsics(params_init)\n",
    "\n",
    "print(\"\\n Initial Camera\")\n",
    "print(cam)\n",
    "pts2init = cam.project(pts3)\n",
    "\n",
    "# now run calibration\n",
    "cam = calibratePose(pts3,pts2,cam,params_init)\n",
    "\n",
    "print(\"\\n Final Camera\")\n",
    "print(cam)\n",
    "pts2final = cam.project(pts3)\n",
    "\n",
    "#\n",
    "# Plot the true, initial and final reprojections\n",
    "# The final reprojection should be on top of the true image\n",
    "#\n",
    "plt.plot(pts2[0,:],pts2[1,:],'bo')\n",
    "plt.plot(pts2init[0,:],pts2init[1,:],'r')\n",
    "plt.plot(pts2final[0,:],pts2final[1,:],'k')\n",
    "plt.gca().add_patch(patches.Rectangle((0,0),2*c[0],2*c[1],color='g',fill=False,ls='--')) \n",
    "plt.plot(c[0],c[1],'g+')\n",
    "plt.axis('square')\n",
    "plt.show()\n",
    "\n",
    "#\n",
    "# Add some additional visualiztion here to show the points in 3D and the locations and orientations\n",
    "# of cam_true and cam.  You can either use a 3D plot or show multiple 2D plots (e.g. overhead\n",
    "# and side views).  Play with this! Maybe try the visualization tools in Open3D if you want even more fun!\n",
    "#\n",
    "\n",
    "# ....."
   ]
  },
  {
   "cell_type": "markdown",
   "metadata": {},
   "source": [
    "## Explain one of the failures including where the initial camera was that led to failure."
   ]
  },
  {
   "cell_type": "markdown",
   "metadata": {},
   "source": [
    "One of the failures was when the initial camera was located at (1,2,-2) and had a rotation of (0,0,0). This led to a failure because the initial camera was located behind the calibration object and was facing the opposite direction of the calibration object. This led to a failure because the camera was not able to see the calibration object and thus could not optimize the extrinsic parameters to minimize the reprojection error."
   ]
  },
  {
   "cell_type": "code",
   "execution_count": null,
   "metadata": {
    "ExecuteTime": {
     "start_time": "2023-10-26T03:06:17.162573300Z"
    }
   },
   "outputs": [],
   "source": []
  }
 ],
 "metadata": {
  "kernelspec": {
   "display_name": "Python 3 (ipykernel)",
   "language": "python",
   "name": "python3"
  },
  "language_info": {
   "codemirror_mode": {
    "name": "ipython",
    "version": 3
   },
   "file_extension": ".py",
   "mimetype": "text/x-python",
   "name": "python",
   "nbconvert_exporter": "python",
   "pygments_lexer": "ipython3",
   "version": "3.11.3"
  }
 },
 "nbformat": 4,
 "nbformat_minor": 2
}
